{
 "cells": [
  {
   "cell_type": "markdown",
   "metadata": {},
   "source": [
    "https://www.hackerrank.com/challenges/staircase/problem"
   ]
  },
  {
   "cell_type": "code",
   "execution_count": 15,
   "metadata": {},
   "outputs": [],
   "source": [
    "def staircase(n):\n",
    "    for i in range(1, n+1):\n",
    "        print (\"#\"*i)"
   ]
  },
  {
   "cell_type": "code",
   "execution_count": 16,
   "metadata": {},
   "outputs": [
    {
     "name": "stdout",
     "output_type": "stream",
     "text": [
      "#\n",
      "##\n",
      "###\n",
      "####\n",
      "#####\n"
     ]
    }
   ],
   "source": [
    "staircase(5)"
   ]
  },
  {
   "cell_type": "code",
   "execution_count": 22,
   "metadata": {},
   "outputs": [],
   "source": [
    "def staircase(n):\n",
    "    for i in range(1, n+1):\n",
    "        print ((\" \"*(n-i))+(\"#\"*i))"
   ]
  },
  {
   "cell_type": "code",
   "execution_count": 23,
   "metadata": {},
   "outputs": [
    {
     "name": "stdout",
     "output_type": "stream",
     "text": [
      "    #\n",
      "   ##\n",
      "  ###\n",
      " ####\n",
      "#####\n"
     ]
    }
   ],
   "source": [
    "staircase(5)"
   ]
  },
  {
   "cell_type": "code",
   "execution_count": 24,
   "metadata": {},
   "outputs": [
    {
     "name": "stdin",
     "output_type": "stream",
     "text": [
      " 10\n"
     ]
    },
    {
     "name": "stdout",
     "output_type": "stream",
     "text": [
      "         #\n",
      "        ##\n",
      "       ###\n",
      "      ####\n",
      "     #####\n",
      "    ######\n",
      "   #######\n",
      "  ########\n",
      " #########\n",
      "##########\n"
     ]
    }
   ],
   "source": [
    "#!/bin/python3\n",
    "\n",
    "import math\n",
    "import os\n",
    "import random\n",
    "import re\n",
    "import sys\n",
    "\n",
    "# Complete the staircase function below.\n",
    "def staircase(n):\n",
    "    for i in range(1, n+1):\n",
    "        print ((\" \"*(n-i))+(\"#\"*i))\n",
    "\n",
    "if __name__ == '__main__':\n",
    "    n = int(input())\n",
    "\n",
    "    staircase(n)"
   ]
  },
  {
   "cell_type": "code",
   "execution_count": null,
   "metadata": {},
   "outputs": [],
   "source": []
  }
 ],
 "metadata": {
  "kernelspec": {
   "display_name": "Python 3",
   "language": "python",
   "name": "python3"
  },
  "language_info": {
   "codemirror_mode": {
    "name": "ipython",
    "version": 3
   },
   "file_extension": ".py",
   "mimetype": "text/x-python",
   "name": "python",
   "nbconvert_exporter": "python",
   "pygments_lexer": "ipython3",
   "version": "3.8.5"
  }
 },
 "nbformat": 4,
 "nbformat_minor": 4
}
